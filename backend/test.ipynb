{
 "cells": [
  {
   "cell_type": "code",
   "execution_count": 1,
   "metadata": {},
   "outputs": [
    {
     "name": "stdout",
     "output_type": "stream",
     "text": [
      "Note: you may need to restart the kernel to use updated packages.\n"
     ]
    }
   ],
   "source": [
    "%pip install --upgrade --quiet  langchain langchain-neo4j langchain-openai neo4j"
   ]
  },
  {
   "cell_type": "code",
   "execution_count": 2,
   "metadata": {},
   "outputs": [],
   "source": [
    "import pandas as pd\n",
    "from neo4j import GraphDatabase\n",
    "import re\n",
    "import time\n",
    "\n",
    "# Neo4j connection details\n",
    "NEO4J_URI = \"bolt://localhost:7687\"\n",
    "NEO4J_USER = \"neo4j\"\n",
    "NEO4J_PASSWORD = \"password\" # your password to the local DBMS you created on Neo4j Desktop where you want to upload the data"
   ]
  },
  {
   "cell_type": "code",
   "execution_count": null,
   "metadata": {},
   "outputs": [],
   "source": [
    "from langchain_neo4j.chains.graph_qa.cypher import GraphCypherQAChain"
   ]
  },
  {
   "cell_type": "code",
   "execution_count": 4,
   "metadata": {},
   "outputs": [],
   "source": [
    "driver = GraphDatabase.driver(NEO4J_URI, auth=(NEO4J_USER, NEO4J_PASSWORD))"
   ]
  },
  {
   "cell_type": "code",
   "execution_count": 9,
   "metadata": {},
   "outputs": [
    {
     "name": "stdout",
     "output_type": "stream",
     "text": [
      "Artificial Intelligence, or AI, is a rapidly growing field that has the potential to revolutionize the way we live and work. AI refers to the development of computer systems that can perform tasks that typically require human intelligence, such as learning, problem-solving, and decision-making.\n",
      "\n",
      "One of the key components of AI is machine learning, which involves training algorithms to recognize patterns in data and make predictions based on that data. This technology is already being used in a variety of applications, from virtual assistants like Siri and Alexa to self-driving cars and personalized recommendations on streaming platforms.\n",
      "\n",
      "AI has the potential to bring about significant advancements in fields such as healthcare, finance, and transportation. For example, AI-powered diagnostic tools can help doctors identify diseases earlier and more accurately, while AI algorithms can analyze financial data to detect fraud and make investment decisions.\n",
      "\n",
      "However, AI also raises ethical and societal concerns, such as privacy and job displacement. As AI becomes more advanced, there is a growing need to ensure that it is used responsibly and ethically.\n",
      "\n",
      "In conclusion, Artificial Intelligence has the potential to transform society in profound ways, but it is important to approach its development with caution and consideration for its potential impacts. As AI continues to evolve, it will be crucial for policymakers, researchers, and industry leaders to work together to ensure that it benefits society as a whole.\n"
     ]
    }
   ],
   "source": [
    "from langchain_openai import ChatOpenAI\n",
    "from langchain.prompts import PromptTemplate\n",
    "from langchain.chains import LLMChain\n",
    "\n",
    "# Step 1: Initialize OpenAI LLM\n",
    "llm = ChatOpenAI(\n",
    "    model_name = 'gpt-3.5-turbo',\n",
    "    temperature=0.7,  # Adjust creativity level\n",
    "    openai_api_key=\"\"  # Replace with your OpenAI API key\n",
    ")\n",
    "\n",
    "# Step 2: Create a Prompt Template\n",
    "prompt = PromptTemplate(\n",
    "    input_variables=[\"topic\"],\n",
    "    template=\"Write a short article about {topic}.\"\n",
    ")\n",
    "\n",
    "# Step 3: Create an LLM Chain\n",
    "chain = LLMChain(llm=llm, prompt=prompt)\n",
    "\n",
    "# Step 4: Run the Chain\n",
    "output = chain.run(\"Artificial Intelligence\")\n",
    "print(output)\n"
   ]
  },
  {
   "cell_type": "code",
   "execution_count": null,
   "metadata": {},
   "outputs": [],
   "source": [
    "chain = GraphCypherQAChain.from_llm(\n",
    "     llm: new ChatOpenAI({ temperature: 0 }),\n",
    "    graph=graph, \n",
    "    verbose=True\n",
    ")"
   ]
  },
  {
   "cell_type": "code",
   "execution_count": null,
   "metadata": {},
   "outputs": [],
   "source": [
    "driver.close()"
   ]
  }
 ],
 "metadata": {
  "kernelspec": {
   "display_name": "graphRAG",
   "language": "python",
   "name": "python3"
  },
  "language_info": {
   "codemirror_mode": {
    "name": "ipython",
    "version": 3
   },
   "file_extension": ".py",
   "mimetype": "text/x-python",
   "name": "python",
   "nbconvert_exporter": "python",
   "pygments_lexer": "ipython3",
   "version": "3.12.7"
  }
 },
 "nbformat": 4,
 "nbformat_minor": 2
}
